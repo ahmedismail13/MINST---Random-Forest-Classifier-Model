{
  "nbformat": 4,
  "nbformat_minor": 0,
  "metadata": {
    "colab": {
      "name": "RFCModel.ipynb",
      "provenance": [],
      "authorship_tag": "ABX9TyOQPL5VoS1tpG7V/lGDwSNj",
      "include_colab_link": true
    },
    "kernelspec": {
      "name": "python3",
      "display_name": "Python 3"
    },
    "accelerator": "GPU"
  },
  "cells": [
    {
      "cell_type": "markdown",
      "metadata": {
        "id": "view-in-github",
        "colab_type": "text"
      },
      "source": [
        "<a href=\"https://colab.research.google.com/github/ahmedismail13/MINST---Random-Forest-Classifier-Model/blob/master/RFCModel.ipynb\" target=\"_parent\"><img src=\"https://colab.research.google.com/assets/colab-badge.svg\" alt=\"Open In Colab\"/></a>"
      ]
    },
    {
      "cell_type": "code",
      "metadata": {
        "id": "w5CWP8V3hAIu",
        "colab_type": "code",
        "colab": {}
      },
      "source": [
        "import numpy as np\n",
        "import pandas as pd\n",
        "from sklearn.ensemble import RandomForestClassifier"
      ],
      "execution_count": 0,
      "outputs": []
    },
    {
      "cell_type": "code",
      "metadata": {
        "id": "qJEEk2EwhNwq",
        "colab_type": "code",
        "colab": {}
      },
      "source": [
        "train = pd.read_csv(\"/content/sample_data/mnist_train_small.csv\").to_numpy()\n",
        "test = pd.read_csv(\"/content/sample_data/mnist_test.csv\").to_numpy()"
      ],
      "execution_count": 0,
      "outputs": []
    },
    {
      "cell_type": "code",
      "metadata": {
        "id": "Wfq4YZWNhrOF",
        "colab_type": "code",
        "colab": {}
      },
      "source": [
        "train_data = train[:,1:]\n",
        "train_label = train[:,0]\n",
        "\n",
        "test_data = test[:,1:]\n",
        "test_label = test [:,0]"
      ],
      "execution_count": 0,
      "outputs": []
    },
    {
      "cell_type": "code",
      "metadata": {
        "id": "-0hwycwwnnaf",
        "colab_type": "code",
        "outputId": "e3cd697b-254d-48fd-ffc4-b7be5166a516",
        "colab": {
          "base_uri": "https://localhost:8080/",
          "height": 33
        }
      },
      "source": [
        "test_label.size"
      ],
      "execution_count": 0,
      "outputs": [
        {
          "output_type": "execute_result",
          "data": {
            "text/plain": [
              "9999"
            ]
          },
          "metadata": {
            "tags": []
          },
          "execution_count": 47
        }
      ]
    },
    {
      "cell_type": "code",
      "metadata": {
        "id": "ahqqBxiGhsC3",
        "colab_type": "code",
        "colab": {}
      },
      "source": [
        "model = RandomForestClassifier()"
      ],
      "execution_count": 0,
      "outputs": []
    },
    {
      "cell_type": "code",
      "metadata": {
        "id": "p0-Luk6_k5Hf",
        "colab_type": "code",
        "outputId": "f1dfbdc6-cc40-44fa-b393-9ee6463e07da",
        "colab": {
          "base_uri": "https://localhost:8080/",
          "height": 147
        }
      },
      "source": [
        "model.fit(train_data,train_label)"
      ],
      "execution_count": 0,
      "outputs": [
        {
          "output_type": "execute_result",
          "data": {
            "text/plain": [
              "RandomForestClassifier(bootstrap=True, ccp_alpha=0.0, class_weight=None,\n",
              "                       criterion='gini', max_depth=None, max_features='auto',\n",
              "                       max_leaf_nodes=None, max_samples=None,\n",
              "                       min_impurity_decrease=0.0, min_impurity_split=None,\n",
              "                       min_samples_leaf=1, min_samples_split=2,\n",
              "                       min_weight_fraction_leaf=0.0, n_estimators=100,\n",
              "                       n_jobs=None, oob_score=False, random_state=None,\n",
              "                       verbose=0, warm_start=False)"
            ]
          },
          "metadata": {
            "tags": []
          },
          "execution_count": 53
        }
      ]
    },
    {
      "cell_type": "code",
      "metadata": {
        "id": "oH35rmi1mkZl",
        "colab_type": "code",
        "colab": {}
      },
      "source": [
        "pred = model.predict(test_data)"
      ],
      "execution_count": 0,
      "outputs": []
    },
    {
      "cell_type": "code",
      "metadata": {
        "id": "hJ7hH5EhmwLt",
        "colab_type": "code",
        "outputId": "98d1126d-e2d7-4902-e795-32492d35aeae",
        "colab": {
          "base_uri": "https://localhost:8080/",
          "height": 33
        }
      },
      "source": [
        "count = 0\n",
        "for i in range (0,9999):\n",
        "    if pred[i] == test_label[i]:\n",
        "        count+=1\n",
        "print(\"Accuracy=\", (count/9999)*100)"
      ],
      "execution_count": 0,
      "outputs": [
        {
          "output_type": "stream",
          "text": [
            "Accuracy= 95.94959495949595\n"
          ],
          "name": "stdout"
        }
      ]
    }
  ]
}